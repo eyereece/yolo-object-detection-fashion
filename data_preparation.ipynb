{
 "cells": [
  {
   "cell_type": "markdown",
   "metadata": {},
   "source": [
    "## Table of Content\n",
    "\n",
    "- [1.0 - Objective](#1.0)\n",
    "- [2.0 - Packages](#2.0)\n",
    "- [3.0 - Data Pre-Processing](#3.0)\n",
    "    - [3.1 - Check for corrupt images](#3-1)\n",
    "    - [3.2 - Bounding Box Calculations](#3-2)\n",
    "    - [3.3 - Label Mapping and Data Organization](#3-3)\n",
    "    "
   ]
  },
  {
   "cell_type": "markdown",
   "metadata": {},
   "source": [
    "<a name='1.0'></a>\n",
    "#### 1.0 Objective\n",
    "\n",
    "The objective of this project is to develop a model to detect and identify fashion objects in images and provide bounding box coordinates for each identified fashion class.\n",
    "\n",
    "This project utilizes an object detection model trained on fashion categories, specifically the YOLOv5 network from Ultralytics. \n",
    "\n",
    "This project is separated into 3 notebooks:\n",
    "* This notebook: data collection and pre-processing.\n",
    "* Model Training\n",
    "* Model Prediction\n",
    "\n",
    "A separate blog post has been created to provide analysis and recommendations from data collection to model training and prediction. The link to this post is available on the README.md of this repository."
   ]
  },
  {
   "cell_type": "markdown",
   "metadata": {},
   "source": [
    "<a name='2.0'></a>\n",
    "#### 2.0 Packages"
   ]
  },
  {
   "cell_type": "code",
   "execution_count": 1,
   "metadata": {},
   "outputs": [],
   "source": [
    "import os\n",
    "from glob import glob\n",
    "import pandas as pd\n",
    "import numpy as np\n",
    "from functools import reduce\n",
    "from xml.etree import ElementTree as et\n",
    "import random\n",
    "import matplotlib.pyplot as plt\n",
    "import os\n",
    "import cv2\n",
    "from PIL import Image, ImageDraw\n",
    "import requests\n",
    "import os\n",
    "from shutil import move\n",
    "%matplotlib inline"
   ]
  },
  {
   "cell_type": "markdown",
   "metadata": {},
   "source": [
    "<a name='3.0'></a>\n",
    "#### 3.0 Data Pre-Processing"
   ]
  },
  {
   "cell_type": "code",
   "execution_count": 2,
   "metadata": {},
   "outputs": [
    {
     "data": {
      "text/html": [
       "<div>\n",
       "<style scoped>\n",
       "    .dataframe tbody tr th:only-of-type {\n",
       "        vertical-align: middle;\n",
       "    }\n",
       "\n",
       "    .dataframe tbody tr th {\n",
       "        vertical-align: top;\n",
       "    }\n",
       "\n",
       "    .dataframe thead th {\n",
       "        text-align: right;\n",
       "    }\n",
       "</style>\n",
       "<table border=\"1\" class=\"dataframe\">\n",
       "  <thead>\n",
       "    <tr style=\"text-align: right;\">\n",
       "      <th></th>\n",
       "      <th>image_signature</th>\n",
       "      <th>bounding_x</th>\n",
       "      <th>bounding_y</th>\n",
       "      <th>bounding_width</th>\n",
       "      <th>bounding_height</th>\n",
       "      <th>label</th>\n",
       "    </tr>\n",
       "  </thead>\n",
       "  <tbody>\n",
       "    <tr>\n",
       "      <th>0</th>\n",
       "      <td>04fcde5521c0a404a4552329e5200673</td>\n",
       "      <td>0.14412735</td>\n",
       "      <td>0.8294209</td>\n",
       "      <td>0.32117385</td>\n",
       "      <td>0.15830207</td>\n",
       "      <td>Shoes</td>\n",
       "    </tr>\n",
       "    <tr>\n",
       "      <th>1</th>\n",
       "      <td>04fcde5521c0a404a4552329e5200673</td>\n",
       "      <td>0.70579976</td>\n",
       "      <td>0.016558629</td>\n",
       "      <td>0.27449077</td>\n",
       "      <td>0.38741693</td>\n",
       "      <td>Scarves &amp; Shawls</td>\n",
       "    </tr>\n",
       "    <tr>\n",
       "      <th>2</th>\n",
       "      <td>04fcde5521c0a404a4552329e5200673</td>\n",
       "      <td>7.892251E-4</td>\n",
       "      <td>0.0</td>\n",
       "      <td>0.41146725</td>\n",
       "      <td>0.47764385</td>\n",
       "      <td>Coats &amp; Jackets</td>\n",
       "    </tr>\n",
       "    <tr>\n",
       "      <th>3</th>\n",
       "      <td>04fcde5521c0a404a4552329e5200673</td>\n",
       "      <td>0.6575671</td>\n",
       "      <td>0.56249845</td>\n",
       "      <td>0.34243292</td>\n",
       "      <td>0.43750155</td>\n",
       "      <td>Handbags</td>\n",
       "    </tr>\n",
       "    <tr>\n",
       "      <th>4</th>\n",
       "      <td>04fd71ac51937e85fe1bfbda62d8ef45</td>\n",
       "      <td>0.73806214</td>\n",
       "      <td>0.025290241</td>\n",
       "      <td>0.19626653</td>\n",
       "      <td>0.2942092</td>\n",
       "      <td>Handbags</td>\n",
       "    </tr>\n",
       "  </tbody>\n",
       "</table>\n",
       "</div>"
      ],
      "text/plain": [
       "                    image_signature   bounding_x   bounding_y bounding_width  \\\n",
       "0  04fcde5521c0a404a4552329e5200673   0.14412735    0.8294209     0.32117385   \n",
       "1  04fcde5521c0a404a4552329e5200673   0.70579976  0.016558629     0.27449077   \n",
       "2  04fcde5521c0a404a4552329e5200673  7.892251E-4          0.0     0.41146725   \n",
       "3  04fcde5521c0a404a4552329e5200673    0.6575671   0.56249845     0.34243292   \n",
       "4  04fd71ac51937e85fe1bfbda62d8ef45   0.73806214  0.025290241     0.19626653   \n",
       "\n",
       "  bounding_height             label  \n",
       "0      0.15830207             Shoes  \n",
       "1      0.38741693  Scarves & Shawls  \n",
       "2      0.47764385   Coats & Jackets  \n",
       "3      0.43750155          Handbags  \n",
       "4       0.2942092          Handbags  "
      ]
     },
     "execution_count": 2,
     "metadata": {},
     "output_type": "execute_result"
    }
   ],
   "source": [
    "with open('../complete-the-look-dataset/datasets/raw_train.tsv', 'r') as file:\n",
    "    lines = file.readlines()\n",
    "\n",
    "# extract column names (first line)\n",
    "raw_column_names = lines[0].split(' ')\n",
    "\n",
    "# remove empty strings from the list\n",
    "column_names = [name for name in raw_column_names if name]\n",
    "\n",
    "# remove any empty strings from the list and strip '\\n' from the 'label' column\n",
    "column_names = [name.strip() for name in raw_column_names if name]\n",
    "\n",
    "data = [line.split('\\t') for line in lines[1:]]\n",
    "df = pd.DataFrame(data, columns=column_names)\n",
    "\n",
    "# replace the '\\n' in the 'label' column with an empty string\n",
    "df['label'] = df['label'].str.replace('\\n', '')\n",
    "df.head()"
   ]
  },
  {
   "cell_type": "code",
   "execution_count": 3,
   "metadata": {},
   "outputs": [
    {
     "data": {
      "text/html": [
       "<div>\n",
       "<style scoped>\n",
       "    .dataframe tbody tr th:only-of-type {\n",
       "        vertical-align: middle;\n",
       "    }\n",
       "\n",
       "    .dataframe tbody tr th {\n",
       "        vertical-align: top;\n",
       "    }\n",
       "\n",
       "    .dataframe thead th {\n",
       "        text-align: right;\n",
       "    }\n",
       "</style>\n",
       "<table border=\"1\" class=\"dataframe\">\n",
       "  <thead>\n",
       "    <tr style=\"text-align: right;\">\n",
       "      <th></th>\n",
       "      <th>image_signature</th>\n",
       "      <th>bounding_x</th>\n",
       "      <th>bounding_y</th>\n",
       "      <th>bounding_width</th>\n",
       "      <th>bounding_height</th>\n",
       "      <th>label</th>\n",
       "    </tr>\n",
       "  </thead>\n",
       "  <tbody>\n",
       "    <tr>\n",
       "      <th>0</th>\n",
       "      <td>04fcde5521c0a404a4552329e5200673</td>\n",
       "      <td>0.14412735</td>\n",
       "      <td>0.8294209</td>\n",
       "      <td>0.32117385</td>\n",
       "      <td>0.15830207</td>\n",
       "      <td>Shoes</td>\n",
       "    </tr>\n",
       "    <tr>\n",
       "      <th>10</th>\n",
       "      <td>04fe26d41dfdd388e78d384a70dee127</td>\n",
       "      <td>0.04124359</td>\n",
       "      <td>0.45141608</td>\n",
       "      <td>0.25114998</td>\n",
       "      <td>0.28614372</td>\n",
       "      <td>Shoes</td>\n",
       "    </tr>\n",
       "    <tr>\n",
       "      <th>17</th>\n",
       "      <td>04fed029fe1fc1479d4919f8834c0657</td>\n",
       "      <td>0.36369017</td>\n",
       "      <td>0.47505257</td>\n",
       "      <td>0.25783226</td>\n",
       "      <td>0.304278</td>\n",
       "      <td>Shoes</td>\n",
       "    </tr>\n",
       "    <tr>\n",
       "      <th>22</th>\n",
       "      <td>04fef5168cbd48dc0007267cfa7f5e3d</td>\n",
       "      <td>0.30794728</td>\n",
       "      <td>0.5984399</td>\n",
       "      <td>0.1624996</td>\n",
       "      <td>0.3552931</td>\n",
       "      <td>Shoes</td>\n",
       "    </tr>\n",
       "    <tr>\n",
       "      <th>25</th>\n",
       "      <td>04ff04c2018aa80f8854614cc9e7345a</td>\n",
       "      <td>0.71438456</td>\n",
       "      <td>0.7589358</td>\n",
       "      <td>0.28561544</td>\n",
       "      <td>0.24106419</td>\n",
       "      <td>Shoes</td>\n",
       "    </tr>\n",
       "  </tbody>\n",
       "</table>\n",
       "</div>"
      ],
      "text/plain": [
       "                     image_signature  bounding_x  bounding_y bounding_width  \\\n",
       "0   04fcde5521c0a404a4552329e5200673  0.14412735   0.8294209     0.32117385   \n",
       "10  04fe26d41dfdd388e78d384a70dee127  0.04124359  0.45141608     0.25114998   \n",
       "17  04fed029fe1fc1479d4919f8834c0657  0.36369017  0.47505257     0.25783226   \n",
       "22  04fef5168cbd48dc0007267cfa7f5e3d  0.30794728   0.5984399      0.1624996   \n",
       "25  04ff04c2018aa80f8854614cc9e7345a  0.71438456   0.7589358     0.28561544   \n",
       "\n",
       "   bounding_height  label  \n",
       "0       0.15830207  Shoes  \n",
       "10      0.28614372  Shoes  \n",
       "17        0.304278  Shoes  \n",
       "22       0.3552931  Shoes  \n",
       "25      0.24106419  Shoes  "
      ]
     },
     "execution_count": 3,
     "metadata": {},
     "output_type": "execute_result"
    }
   ],
   "source": [
    "# Set the number of rows to collect for each label\n",
    "rows_per_label = 1000\n",
    "\n",
    "result_df = pd.DataFrame(columns=df.columns)\n",
    "\n",
    "for label in df['label'].unique():\n",
    "    label_rows = df[df['label'] == label]\n",
    "\n",
    "    if len(label_rows) <= rows_per_label:\n",
    "        result_df = pd.concat([result_df, label_rows])\n",
    "    else:\n",
    "        result_df = pd.concat([result_df, label_rows.head(rows_per_label)])\n",
    "\n",
    "len(result_df)\n",
    "result_df.head()"
   ]
  },
  {
   "cell_type": "code",
   "execution_count": 4,
   "metadata": {},
   "outputs": [
    {
     "data": {
      "text/plain": [
       "15657"
      ]
     },
     "execution_count": 4,
     "metadata": {},
     "output_type": "execute_result"
    }
   ],
   "source": [
    "len(result_df)"
   ]
  },
  {
   "cell_type": "code",
   "execution_count": 5,
   "metadata": {},
   "outputs": [
    {
     "data": {
      "text/html": [
       "<div>\n",
       "<style scoped>\n",
       "    .dataframe tbody tr th:only-of-type {\n",
       "        vertical-align: middle;\n",
       "    }\n",
       "\n",
       "    .dataframe tbody tr th {\n",
       "        vertical-align: top;\n",
       "    }\n",
       "\n",
       "    .dataframe thead th {\n",
       "        text-align: right;\n",
       "    }\n",
       "</style>\n",
       "<table border=\"1\" class=\"dataframe\">\n",
       "  <thead>\n",
       "    <tr style=\"text-align: right;\">\n",
       "      <th></th>\n",
       "      <th>label</th>\n",
       "      <th>count</th>\n",
       "    </tr>\n",
       "  </thead>\n",
       "  <tbody>\n",
       "    <tr>\n",
       "      <th>0</th>\n",
       "      <td>Shoes</td>\n",
       "      <td>1000</td>\n",
       "    </tr>\n",
       "    <tr>\n",
       "      <th>1</th>\n",
       "      <td>Sunglasses</td>\n",
       "      <td>1000</td>\n",
       "    </tr>\n",
       "    <tr>\n",
       "      <th>2</th>\n",
       "      <td>Watches</td>\n",
       "      <td>1000</td>\n",
       "    </tr>\n",
       "    <tr>\n",
       "      <th>3</th>\n",
       "      <td>Skirts</td>\n",
       "      <td>1000</td>\n",
       "    </tr>\n",
       "    <tr>\n",
       "      <th>4</th>\n",
       "      <td>Scarves &amp; Shawls</td>\n",
       "      <td>1000</td>\n",
       "    </tr>\n",
       "    <tr>\n",
       "      <th>5</th>\n",
       "      <td>Shorts</td>\n",
       "      <td>1000</td>\n",
       "    </tr>\n",
       "    <tr>\n",
       "      <th>6</th>\n",
       "      <td>Dresses</td>\n",
       "      <td>1000</td>\n",
       "    </tr>\n",
       "    <tr>\n",
       "      <th>7</th>\n",
       "      <td>Hats</td>\n",
       "      <td>1000</td>\n",
       "    </tr>\n",
       "    <tr>\n",
       "      <th>8</th>\n",
       "      <td>Jewelry</td>\n",
       "      <td>1000</td>\n",
       "    </tr>\n",
       "    <tr>\n",
       "      <th>9</th>\n",
       "      <td>Shirts &amp; Tops</td>\n",
       "      <td>1000</td>\n",
       "    </tr>\n",
       "    <tr>\n",
       "      <th>10</th>\n",
       "      <td>Pants</td>\n",
       "      <td>1000</td>\n",
       "    </tr>\n",
       "    <tr>\n",
       "      <th>11</th>\n",
       "      <td>Handbags</td>\n",
       "      <td>1000</td>\n",
       "    </tr>\n",
       "    <tr>\n",
       "      <th>12</th>\n",
       "      <td>Coats &amp; Jackets</td>\n",
       "      <td>1000</td>\n",
       "    </tr>\n",
       "    <tr>\n",
       "      <th>13</th>\n",
       "      <td>Belts</td>\n",
       "      <td>724</td>\n",
       "    </tr>\n",
       "    <tr>\n",
       "      <th>14</th>\n",
       "      <td>Socks</td>\n",
       "      <td>716</td>\n",
       "    </tr>\n",
       "    <tr>\n",
       "      <th>15</th>\n",
       "      <td>Rings</td>\n",
       "      <td>554</td>\n",
       "    </tr>\n",
       "    <tr>\n",
       "      <th>16</th>\n",
       "      <td>Jumpsuits &amp; Rompers</td>\n",
       "      <td>321</td>\n",
       "    </tr>\n",
       "    <tr>\n",
       "      <th>17</th>\n",
       "      <td>Swimwear</td>\n",
       "      <td>162</td>\n",
       "    </tr>\n",
       "    <tr>\n",
       "      <th>18</th>\n",
       "      <td>Stockings</td>\n",
       "      <td>113</td>\n",
       "    </tr>\n",
       "    <tr>\n",
       "      <th>19</th>\n",
       "      <td>Gloves &amp; Mittens</td>\n",
       "      <td>58</td>\n",
       "    </tr>\n",
       "    <tr>\n",
       "      <th>20</th>\n",
       "      <td>Neckties</td>\n",
       "      <td>9</td>\n",
       "    </tr>\n",
       "  </tbody>\n",
       "</table>\n",
       "</div>"
      ],
      "text/plain": [
       "                  label  count\n",
       "0                 Shoes   1000\n",
       "1            Sunglasses   1000\n",
       "2               Watches   1000\n",
       "3                Skirts   1000\n",
       "4      Scarves & Shawls   1000\n",
       "5                Shorts   1000\n",
       "6               Dresses   1000\n",
       "7                  Hats   1000\n",
       "8               Jewelry   1000\n",
       "9         Shirts & Tops   1000\n",
       "10                Pants   1000\n",
       "11             Handbags   1000\n",
       "12      Coats & Jackets   1000\n",
       "13                Belts    724\n",
       "14                Socks    716\n",
       "15                Rings    554\n",
       "16  Jumpsuits & Rompers    321\n",
       "17             Swimwear    162\n",
       "18            Stockings    113\n",
       "19     Gloves & Mittens     58\n",
       "20             Neckties      9"
      ]
     },
     "execution_count": 5,
     "metadata": {},
     "output_type": "execute_result"
    }
   ],
   "source": [
    "label_counts = result_df['label'].value_counts().reset_index()\n",
    "label_counts.columns = ['label', 'count']\n",
    "label_counts"
   ]
  },
  {
   "cell_type": "code",
   "execution_count": 6,
   "metadata": {},
   "outputs": [
    {
     "data": {
      "text/plain": [
       "9235"
      ]
     },
     "execution_count": 6,
     "metadata": {},
     "output_type": "execute_result"
    }
   ],
   "source": [
    "images = result_df['image_signature'].unique()\n",
    "len(images)"
   ]
  },
  {
   "cell_type": "code",
   "execution_count": 7,
   "metadata": {},
   "outputs": [
    {
     "data": {
      "text/html": [
       "<div>\n",
       "<style scoped>\n",
       "    .dataframe tbody tr th:only-of-type {\n",
       "        vertical-align: middle;\n",
       "    }\n",
       "\n",
       "    .dataframe tbody tr th {\n",
       "        vertical-align: top;\n",
       "    }\n",
       "\n",
       "    .dataframe thead th {\n",
       "        text-align: right;\n",
       "    }\n",
       "</style>\n",
       "<table border=\"1\" class=\"dataframe\">\n",
       "  <thead>\n",
       "    <tr style=\"text-align: right;\">\n",
       "      <th></th>\n",
       "      <th>image_signature</th>\n",
       "    </tr>\n",
       "  </thead>\n",
       "  <tbody>\n",
       "    <tr>\n",
       "      <th>0</th>\n",
       "      <td>04fcde5521c0a404a4552329e5200673</td>\n",
       "    </tr>\n",
       "    <tr>\n",
       "      <th>1</th>\n",
       "      <td>04fe26d41dfdd388e78d384a70dee127</td>\n",
       "    </tr>\n",
       "    <tr>\n",
       "      <th>2</th>\n",
       "      <td>04fed029fe1fc1479d4919f8834c0657</td>\n",
       "    </tr>\n",
       "    <tr>\n",
       "      <th>3</th>\n",
       "      <td>04fef5168cbd48dc0007267cfa7f5e3d</td>\n",
       "    </tr>\n",
       "    <tr>\n",
       "      <th>4</th>\n",
       "      <td>04ff04c2018aa80f8854614cc9e7345a</td>\n",
       "    </tr>\n",
       "  </tbody>\n",
       "</table>\n",
       "</div>"
      ],
      "text/plain": [
       "                    image_signature\n",
       "0  04fcde5521c0a404a4552329e5200673\n",
       "1  04fe26d41dfdd388e78d384a70dee127\n",
       "2  04fed029fe1fc1479d4919f8834c0657\n",
       "3  04fef5168cbd48dc0007267cfa7f5e3d\n",
       "4  04ff04c2018aa80f8854614cc9e7345a"
      ]
     },
     "execution_count": 7,
     "metadata": {},
     "output_type": "execute_result"
    }
   ],
   "source": [
    "img_df = pd.DataFrame(images, columns=['image_signature'])\n",
    "img_df.head()"
   ]
  },
  {
   "cell_type": "code",
   "execution_count": 8,
   "metadata": {},
   "outputs": [],
   "source": [
    "img_train = tuple(img_df.sample(frac=0.8)['image_signature'])\n",
    "img_test = tuple(img_df.query(f'image_signature not in {img_train}')['image_signature'])"
   ]
  },
  {
   "cell_type": "code",
   "execution_count": 9,
   "metadata": {},
   "outputs": [
    {
     "data": {
      "text/plain": [
       "(7388, 1847)"
      ]
     },
     "execution_count": 9,
     "metadata": {},
     "output_type": "execute_result"
    }
   ],
   "source": [
    "len(img_train), len(img_test)"
   ]
  },
  {
   "cell_type": "code",
   "execution_count": 10,
   "metadata": {},
   "outputs": [],
   "source": [
    "train_df = result_df.query(f'image_signature in {img_train}')\n",
    "test_df = result_df.query(f'image_signature in {img_test}')"
   ]
  },
  {
   "cell_type": "code",
   "execution_count": 12,
   "metadata": {},
   "outputs": [],
   "source": [
    "def convert_to_url(signature):\n",
    "    prefix = 'http://i.pinimg.com/400x/%s/%s/%s/%s.jpg'\n",
    "    return prefix % (signature[0:2], signature[2:4], signature[4:6], signature)"
   ]
  },
  {
   "cell_type": "code",
   "execution_count": 13,
   "metadata": {},
   "outputs": [],
   "source": [
    "output_directory = 'test_ds'\n",
    "os.makedirs(output_directory, exist_ok=True)\n",
    "\n",
    "for sig in test_df['image_signature']:\n",
    "    url = convert_to_url(sig)\n",
    "    image = Image.open(requests.get(url, stream=True).raw)\n",
    "    filename = f\"{sig}.jpg\"\n",
    "    image.save(os.path.join(output_directory, filename))"
   ]
  },
  {
   "cell_type": "code",
   "execution_count": 14,
   "metadata": {},
   "outputs": [],
   "source": [
    "output_directory = 'train_ds'\n",
    "os.makedirs(output_directory, exist_ok=True)\n",
    "\n",
    "for sig in train_df['image_signature']:\n",
    "    try:\n",
    "        url = convert_to_url(sig)\n",
    "        image = Image.open(requests.get(url, stream=True).raw)\n",
    "        filename = f\"{sig}.jpg\"\n",
    "        image.save(os.path.join(output_directory, filename))\n",
    "    except Exception as e:\n",
    "        print(f\"Error processing image {sig}: {str(e)}\")"
   ]
  },
  {
   "cell_type": "markdown",
   "metadata": {},
   "source": [
    "<a name='3-1'></a>\n",
    "\n",
    "#### 3.1 Check for corrupt images"
   ]
  },
  {
   "cell_type": "code",
   "execution_count": 19,
   "metadata": {},
   "outputs": [],
   "source": [
    "folder_path = './test_ds/'\n",
    "\n",
    "for file in os.listdir(folder_path):\n",
    "    if file.endswith(('.jpg', '.jpeg', '.png')):\n",
    "        file_path = os.path.join(folder_path, file)\n",
    "\n",
    "        with open(file_path, 'rb') as f:\n",
    "            check_chars = f.read()[-2:]\n",
    "\n",
    "        if check_chars != b'\\xff\\xd9':\n",
    "            print(f'Not a complete image: {file}')\n",
    "        else:\n",
    "            imrgb = cv2.imread(file_path, 1)"
   ]
  },
  {
   "cell_type": "code",
   "execution_count": null,
   "metadata": {},
   "outputs": [],
   "source": [
    "# to fix corrupt images, activate venv, go to image folder, run this script on terminal\n",
    "# $ mogrify -set comment 'Image rewritten with ImageMagick' *.jpg"
   ]
  },
  {
   "cell_type": "code",
   "execution_count": null,
   "metadata": {},
   "outputs": [],
   "source": [
    "train_df['filename'] = train_df['image_signature'] + '.jpg'\n",
    "test_df['filename'] = test_df['image_signature'] + '.jpg'"
   ]
  },
  {
   "cell_type": "code",
   "execution_count": null,
   "metadata": {},
   "outputs": [],
   "source": [
    "train_df['filepath'] = './train_ds/' + train_df['filename']\n",
    "test_df['filepath'] = './test_ds/' + test_df['filename']"
   ]
  },
  {
   "cell_type": "code",
   "execution_count": 32,
   "metadata": {},
   "outputs": [],
   "source": [
    "train_df.reset_index(drop=True, inplace=True)\n",
    "test_df.reset_index(drop=True, inplace=True)"
   ]
  },
  {
   "cell_type": "markdown",
   "metadata": {},
   "source": [
    "<a name='3-2'></a>\n",
    "\n",
    "#### 3.2 Bounding Box Calculations"
   ]
  },
  {
   "cell_type": "code",
   "execution_count": 34,
   "metadata": {},
   "outputs": [],
   "source": [
    "for i in range(len(train_df)):\n",
    "    image_path = train_df.loc[i, 'filepath']\n",
    "    image = Image.open(image_path)\n",
    "    draw = ImageDraw.Draw(image)\n",
    "\n",
    "    x = float(train_df.loc[i, 'bounding_x'])\n",
    "    y = float(train_df.loc[i, 'bounding_y'])\n",
    "    w = float(train_df.loc[i, 'bounding_width'])\n",
    "    h = float(train_df.loc[i, 'bounding_height'])\n",
    "\n",
    "    if 'xmin' not in train_df.columns:\n",
    "        train_df['xmin'] = 0  # or any default value if needed\n",
    "    if 'ymin' not in train_df.columns:\n",
    "        train_df['ymin'] = 0\n",
    "    if 'xmax' not in train_df.columns:\n",
    "        train_df['xmax'] = 0\n",
    "    if 'ymax' not in train_df.columns:\n",
    "        train_df['ymax'] = 0\n",
    "\n",
    "    train_df.loc[i, 'xmin'] = int(x * image.width)\n",
    "    train_df.loc[i, 'ymin'] = int(y * image.height)\n",
    "    train_df.loc[i, 'xmax'] = int((x + w) * image.width)\n",
    "    train_df.loc[i, 'ymax'] = int((y + h) * image.height)\n"
   ]
  },
  {
   "cell_type": "code",
   "execution_count": null,
   "metadata": {},
   "outputs": [],
   "source": [
    "for i in range(len(test_df)):\n",
    "    image_path = test_df.loc[i, 'filepath']\n",
    "    image = Image.open(image_path)\n",
    "    draw = ImageDraw.Draw(image)\n",
    "\n",
    "    x = float(test_df.loc[i, 'bounding_x'])\n",
    "    y = float(test_df.loc[i, 'bounding_y'])\n",
    "    w = float(test_df.loc[i, 'bounding_width'])\n",
    "    h = float(test_df.loc[i, 'bounding_height'])\n",
    "\n",
    "    if 'xmin' not in test_df.columns:\n",
    "        test_df['xmin'] = 0  # or any default value if needed\n",
    "    if 'ymin' not in test_df.columns:\n",
    "        test_df['ymin'] = 0\n",
    "    if 'xmax' not in test_df.columns:\n",
    "        test_df['xmax'] = 0\n",
    "    if 'ymax' not in test_df.columns:\n",
    "        test_df['ymax'] = 0\n",
    "\n",
    "    test_df.loc[i, 'xmin'] = int(x * image.width)\n",
    "    test_df.loc[i, 'ymin'] = int(y * image.height)\n",
    "    test_df.loc[i, 'xmax'] = int((x + w) * image.width)\n",
    "    test_df.loc[i, 'ymax'] = int((y + h) * image.height)\n"
   ]
  },
  {
   "cell_type": "code",
   "execution_count": null,
   "metadata": {},
   "outputs": [],
   "source": [
    "for i in range(len(train_df)):\n",
    "    image_path = train_df.loc[i, 'filepath']\n",
    "    image = Image.open(image_path)\n",
    "    draw = ImageDraw.Draw(image)\n",
    "\n",
    "    train_df.at[i, 'width'] = image.width\n",
    "    train_df.at[i, 'height'] = image.height"
   ]
  },
  {
   "cell_type": "code",
   "execution_count": null,
   "metadata": {},
   "outputs": [],
   "source": [
    "for i in range(len(test_df)):\n",
    "    image_path = test_df.loc[i, 'filepath']\n",
    "    image = Image.open(image_path)\n",
    "    draw = ImageDraw.Draw(image)\n",
    "    test_df.at[i, 'width'] = image.width\n",
    "    test_df.at[i, 'height'] = image.height"
   ]
  },
  {
   "cell_type": "code",
   "execution_count": null,
   "metadata": {},
   "outputs": [],
   "source": [
    "# center x, center y, w, h train_df\n",
    "train_df['center_x'] = ((train_df['xmax'] + train_df['xmin']) / 2) / train_df['width']\n",
    "train_df['center_y'] = ((train_df['ymax'] + train_df['ymin']) / 2) / train_df['height']\n",
    "train_df['w'] = (train_df['xmax'] - train_df['xmin']) / train_df['width']\n",
    "train_df['h'] = (train_df['ymax'] - train_df['ymin']) / train_df['height']"
   ]
  },
  {
   "cell_type": "code",
   "execution_count": null,
   "metadata": {},
   "outputs": [],
   "source": [
    "# test_df: center_x, center_y, w, h\n",
    "test_df['center_x'] = ((test_df['xmax'] + test_df['xmin']) / 2) / test_df['width']\n",
    "test_df['center_y'] = ((test_df['ymax'] + test_df['ymin']) / 2) / test_df['height']\n",
    "test_df['w'] = (test_df['xmax'] - test_df['xmin']) / test_df['width']\n",
    "test_df['h'] = (test_df['ymax'] - test_df['ymin']) / test_df['height']"
   ]
  },
  {
   "cell_type": "code",
   "execution_count": 54,
   "metadata": {},
   "outputs": [
    {
     "data": {
      "text/plain": [
       "(12523, 3134)"
      ]
     },
     "execution_count": 54,
     "metadata": {},
     "output_type": "execute_result"
    }
   ],
   "source": [
    "len(train_df), len(test_df)"
   ]
  },
  {
   "cell_type": "markdown",
   "metadata": {},
   "source": [
    "<a name='3-3'></a>\n",
    "\n",
    "#### 3.3 Label Mapping and Data Organization"
   ]
  },
  {
   "cell_type": "code",
   "execution_count": 55,
   "metadata": {},
   "outputs": [],
   "source": [
    "def label_encoding(x):\n",
    "    labels = {\n",
    "        'Pants': 0,\n",
    "        'Handbags': 1,\n",
    "        'Shirts & Tops': 2,\n",
    "        'Shoes': 3,\n",
    "        'Scarves & Shawls': 4,\n",
    "        'Jewelry': 5,\n",
    "        'Skirts': 6,\n",
    "        'Coats & Jackets': 7,\n",
    "        'Hats': 8,\n",
    "        'Dresses': 9,\n",
    "        'Shorts': 10,\n",
    "        'Watches': 11,\n",
    "        'Sunglasses': 12,\n",
    "        'Jumpsuits & Rompers': 13,\n",
    "        'Socks': 14,\n",
    "        'Rings': 15,\n",
    "        'Belts': 16,\n",
    "        'Gloves & Mittens': 17,\n",
    "        'Swimwear': 18,\n",
    "        'Stockings': 19,\n",
    "        'Neckties': 20\n",
    "    }\n",
    "    return labels[x]"
   ]
  },
  {
   "cell_type": "code",
   "execution_count": null,
   "metadata": {},
   "outputs": [],
   "source": [
    "train_df.loc[:, 'id'] = train_df['label'].apply(label_encoding)\n",
    "test_df.loc[:, 'id'] = test_df['label'].apply(label_encoding)"
   ]
  },
  {
   "cell_type": "code",
   "execution_count": 62,
   "metadata": {},
   "outputs": [],
   "source": [
    "# Define the mapping of old values to new values\n",
    "label_mapping = {\n",
    "    'Shirts & Tops': 'Shirts',\n",
    "    'Scarves & Shawls': 'Scarves',\n",
    "    'Coats & Jackets': 'Coats',\n",
    "    'Jumpsuits & Rompers': 'Jumpsuits',\n",
    "    'Gloves & Mittens': 'Gloves'\n",
    "}"
   ]
  },
  {
   "cell_type": "code",
   "execution_count": null,
   "metadata": {},
   "outputs": [],
   "source": [
    "test_df['label'] = test_df['label'].replace(label_mapping)\n",
    "train_df['label'] = train_df['label'].replace(label_mapping)"
   ]
  },
  {
   "cell_type": "code",
   "execution_count": null,
   "metadata": {},
   "outputs": [],
   "source": [
    "gloves_df = test_df[test_df['label'] == 'Gloves']"
   ]
  },
  {
   "cell_type": "code",
   "execution_count": null,
   "metadata": {},
   "outputs": [],
   "source": [
    "jumpsuits_df = train_df[train_df['label'] == 'Jumpsuits']"
   ]
  },
  {
   "cell_type": "code",
   "execution_count": 68,
   "metadata": {},
   "outputs": [],
   "source": [
    "train_df.to_csv('train_df_objdetect.csv', index=False)\n",
    "test_df.to_csv('test_df_objdetect.csv', index=False)"
   ]
  },
  {
   "cell_type": "code",
   "execution_count": 72,
   "metadata": {},
   "outputs": [],
   "source": [
    "train_folder = './data_images/train_yolo'\n",
    "test_folder = './data_images/test_yolo'\n",
    "\n",
    "os.mkdir(train_folder)\n",
    "os.mkdir(test_folder)"
   ]
  },
  {
   "cell_type": "code",
   "execution_count": 73,
   "metadata": {},
   "outputs": [],
   "source": [
    "cols = ['filename', 'id', 'center_x', 'center_y', 'w', 'h']\n",
    "groupby_obj_train = train_df[cols].groupby('filename')\n",
    "groupby_obj_test = test_df[cols].groupby('filename')"
   ]
  },
  {
   "cell_type": "code",
   "execution_count": 74,
   "metadata": {},
   "outputs": [],
   "source": [
    "# test on a sample file before implementing onto the entire dataset\n",
    "\n",
    "groupby_obj_train.get_group('04fcde5521c0a404a4552329e5200673.jpg').set_index('filename').to_csv('sample.txt', index=False, header=False)"
   ]
  },
  {
   "cell_type": "code",
   "execution_count": 78,
   "metadata": {},
   "outputs": [],
   "source": [
    "# save each image in train/test folder and respective labels in .txt\n",
    "def save_data(filename, folder_path, groupby_obj):\n",
    "    # move image\n",
    "    src = os.path.join('./train_ds/', filename)\n",
    "    dst = os.path.join(folder_path, filename)\n",
    "    move(src, dst) # move images to the destination folder\n",
    "\n",
    "    # save the labels\n",
    "    text_filename = os.path.join(folder_path, os.path.splitext(filename)[0]+'.txt')\n",
    "    groupby_obj.get_group(filename).set_index('filename').to_csv(text_filename, sep=' ', index=False, header=False)"
   ]
  },
  {
   "cell_type": "code",
   "execution_count": null,
   "metadata": {},
   "outputs": [],
   "source": [
    "filename_series_test = pd.Series(groupby_obj_test.groups.keys())\n",
    "filename_series_test.apply(save_data, args=(test_folder, groupby_obj_test))"
   ]
  },
  {
   "cell_type": "code",
   "execution_count": 79,
   "metadata": {},
   "outputs": [
    {
     "data": {
      "text/plain": [
       "0       None\n",
       "1       None\n",
       "2       None\n",
       "3       None\n",
       "4       None\n",
       "        ... \n",
       "7383    None\n",
       "7384    None\n",
       "7385    None\n",
       "7386    None\n",
       "7387    None\n",
       "Length: 7388, dtype: object"
      ]
     },
     "execution_count": 79,
     "metadata": {},
     "output_type": "execute_result"
    }
   ],
   "source": [
    "filename_series = pd.Series(groupby_obj_train.groups.keys())\n",
    "filename_series.apply(save_data, args=(train_folder, groupby_obj_train))"
   ]
  },
  {
   "cell_type": "markdown",
   "metadata": {},
   "source": [
    "Final Check for corrupt images"
   ]
  },
  {
   "cell_type": "code",
   "execution_count": 81,
   "metadata": {},
   "outputs": [],
   "source": [
    "folder_path = './data_images/test_yolo/'\n",
    "\n",
    "for file in os.listdir(folder_path):\n",
    "    if file.endswith(('.jpg', '.jpeg', '.png')):\n",
    "        file_path = os.path.join(folder_path, file)\n",
    "\n",
    "        with open(file_path, 'rb') as f:\n",
    "            check_chars = f.read()[-2:]\n",
    "\n",
    "        if check_chars != b'\\xff\\xd9':\n",
    "            print(f'Not a complete image: {file}')\n",
    "        else:\n",
    "            imrgb = cv2.imread(file_path, 1)"
   ]
  },
  {
   "cell_type": "markdown",
   "metadata": {},
   "source": [
    "Create YAML file"
   ]
  }
 ],
 "metadata": {
  "kernelspec": {
   "display_name": "ml",
   "language": "python",
   "name": "python3"
  },
  "language_info": {
   "codemirror_mode": {
    "name": "ipython",
    "version": 3
   },
   "file_extension": ".py",
   "mimetype": "text/x-python",
   "name": "python",
   "nbconvert_exporter": "python",
   "pygments_lexer": "ipython3",
   "version": "3.9.18"
  },
  "orig_nbformat": 4
 },
 "nbformat": 4,
 "nbformat_minor": 2
}
